{
 "cells": [
  {
   "cell_type": "code",
   "execution_count": 2,
   "metadata": {},
   "outputs": [],
   "source": [
    "import os\n",
    "import torch\n",
    "from layers import SpatialTransformer\n",
    "import numpy as np\n",
    "import nibabel as nib\n",
    "\n",
    "from skimage.transform import resize\n",
    "from scipy.ndimage.interpolation import affine_transform\n",
    "\n",
    "from deformation_simulator import Simulator, SourceGen\n",
    "from helpers import normalizeImage, random_transform, compute_negative_jacobian\n",
    "import matplotlib.pyplot as plt\n",
    "from matplotlib.collections import LineCollection"
   ]
  },
  {
   "cell_type": "code",
   "execution_count": 8,
   "metadata": {},
   "outputs": [],
   "source": [
    "folder = \"/home/myi16/jsr_Y/new_flow\"\n",
    "write_dir = \"/home/myi16/jsr_Y/new_val\""
   ]
  },
  {
   "cell_type": "code",
   "execution_count": 3,
   "metadata": {},
   "outputs": [
    {
     "data": {
      "text/plain": [
       "[376, 167, 222, 394, 331, 337, 188, 73, 197, 147]"
      ]
     },
     "execution_count": 3,
     "metadata": {},
     "output_type": "execute_result"
    }
   ],
   "source": [
    "import random\n",
    "index_list = random.choices(range(0,400),k=10)\n",
    "index_list"
   ]
  },
  {
   "cell_type": "code",
   "execution_count": 23,
   "metadata": {},
   "outputs": [],
   "source": [
    "def mynorm(img,maxi,mini):\n",
    "    return (maxi-mini)*(img-img.min())/(img.max()-img.min())+mini"
   ]
  },
  {
   "cell_type": "code",
   "execution_count": 28,
   "metadata": {},
   "outputs": [],
   "source": [
    "def dataread(data_dict):\n",
    "    \n",
    "    fixed_img = data_dict['fixed_img']\n",
    "    moving_img = data_dict['moving_img']\n",
    "    fixed_warp = data_dict['fixed_warp']\n",
    "    moving_truth = data_dict['moving_truth']\n",
    "    ventricle_fixed = data_dict['ventricle_fixed']\n",
    "    ventricle_moving = data_dict['ventricle_moving']\n",
    "    affine = data_dict['affine']\n",
    "    flow = data_dict['flow']\n",
    "    cbct = data_dict['cbct']\n",
    "    cbct_warp = data_dict['cbct_warp']\n",
    "\n",
    "    maxi = moving_truth.max()\n",
    "    mini = moving_truth.min()\n",
    "\n",
    "    moving_img = mynorm(moving_img,maxi,mini)\n",
    "    output_dict = {}\n",
    "    output_dict['ct_fixed'] = fixed_img \n",
    "    output_dict['mr_moving'] = torch.from_numpy(moving_img).unsqueeze(0).unsqueeze(0)\n",
    "    output_dict['ct_moving'] = fixed_warp \n",
    "    output_dict['moving_truth'] = moving_truth\n",
    "    output_dict['seg_fixed'] = torch.from_numpy(ventricle_fixed).unsqueeze(0).unsqueeze(0) \n",
    "    output_dict['seg_moving'] = torch.from_numpy(ventricle_moving).unsqueeze(0).unsqueeze(0) \n",
    "    output_dict['affine'] = affine \n",
    "    output_dict['flow'] = flow \n",
    "    output_dict['cbct_fixed'] = torch.from_numpy(cbct).unsqueeze(0).unsqueeze(0)\n",
    "    output_dict['cbct_warp'] = cbct_warp \n",
    "    return output_dict"
   ]
  },
  {
   "cell_type": "code",
   "execution_count": null,
   "metadata": {},
   "outputs": [],
   "source": [
    "for key in dataread()"
   ]
  },
  {
   "cell_type": "code",
   "execution_count": 29,
   "metadata": {},
   "outputs": [],
   "source": [
    "for i in range(10):\n",
    "    name = f'/{index_list[i]:03}.npz'\n",
    "    data = np.load(folder+name)\n",
    "    output = dataread(data)\n",
    "    torch.save(output,write_dir+f'/{i:03}.pt')"
   ]
  },
  {
   "cell_type": "code",
   "execution_count": 9,
   "metadata": {},
   "outputs": [
    {
     "data": {
      "text/plain": [
       "dict"
      ]
     },
     "execution_count": 9,
     "metadata": {},
     "output_type": "execute_result"
    }
   ],
   "source": [
    "### Test\n",
    "data = torch.load(write_dir+f'/{0:03}.pt')\n",
    "type(data)\n"
   ]
  },
  {
   "cell_type": "code",
   "execution_count": 10,
   "metadata": {},
   "outputs": [
    {
     "name": "stdout",
     "output_type": "stream",
     "text": [
      "1.0\n",
      "tensor(0.6334)\n",
      "1.0\n",
      "0.6333673\n",
      "tensor(138.0000)\n",
      "tensor(138.0000)\n",
      "4.325005053620965\n",
      "2.9506998\n",
      "tensor(1.)\n",
      "1.0\n"
     ]
    }
   ],
   "source": [
    "for key in data.keys():\n",
    "    print(data[key].max())"
   ]
  },
  {
   "cell_type": "code",
   "execution_count": 48,
   "metadata": {},
   "outputs": [],
   "source": [
    "data = torch.load('/mnt/blackhole-data2/RadOnc_Brain/Validation'+'/valid_0.pt')"
   ]
  },
  {
   "cell_type": "code",
   "execution_count": 11,
   "metadata": {},
   "outputs": [
    {
     "name": "stdout",
     "output_type": "stream",
     "text": [
      "ct_fixed\n",
      "(128, 160, 128)\n",
      "<class 'numpy.ndarray'>\n",
      "mr_moving\n",
      "torch.Size([1, 1, 128, 160, 128])\n",
      "<class 'torch.Tensor'>\n",
      "ct_moving\n",
      "(128, 160, 128)\n",
      "<class 'numpy.ndarray'>\n",
      "moving_truth\n",
      "(128, 160, 128)\n",
      "<class 'numpy.ndarray'>\n",
      "seg_fixed\n",
      "torch.Size([1, 1, 128, 160, 128])\n",
      "<class 'torch.Tensor'>\n",
      "seg_moving\n",
      "torch.Size([1, 1, 128, 160, 128])\n",
      "<class 'torch.Tensor'>\n",
      "affine\n",
      "(4, 4)\n",
      "<class 'numpy.ndarray'>\n",
      "flow\n",
      "(3, 128, 160, 128)\n",
      "<class 'numpy.ndarray'>\n",
      "cbct_fixed\n",
      "torch.Size([1, 1, 128, 160, 128])\n",
      "<class 'torch.Tensor'>\n",
      "cbct_warp\n",
      "(128, 160, 128)\n",
      "<class 'numpy.ndarray'>\n"
     ]
    }
   ],
   "source": [
    "for keys in data.keys():\n",
    "    print(keys)\n",
    "    print(data[keys].shape)\n",
    "    print(type(data[keys]))"
   ]
  },
  {
   "cell_type": "code",
   "execution_count": null,
   "metadata": {},
   "outputs": [],
   "source": []
  }
 ],
 "metadata": {
  "kernelspec": {
   "display_name": "jsr_Y",
   "language": "python",
   "name": "python3"
  },
  "language_info": {
   "codemirror_mode": {
    "name": "ipython",
    "version": 3
   },
   "file_extension": ".py",
   "mimetype": "text/x-python",
   "name": "python",
   "nbconvert_exporter": "python",
   "pygments_lexer": "ipython3",
   "version": "3.9.15"
  },
  "orig_nbformat": 4,
  "vscode": {
   "interpreter": {
    "hash": "add61fc558e027f4fe79b891b941cc5cb3236cc212081d099a1b8a8b597cc411"
   }
  }
 },
 "nbformat": 4,
 "nbformat_minor": 2
}
